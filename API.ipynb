{
 "cells": [
  {
   "cell_type": "code",
   "execution_count": null,
   "metadata": {},
   "outputs": [
    {
     "name": "stdout",
     "output_type": "stream",
     "text": [
      "Model loaded\n",
      "Model columns loaded\n",
      " * Serving Flask app \"__main__\" (lazy loading)\n",
      " * Environment: production\n",
      "   WARNING: This is a development server. Do not use it in a production deployment.\n",
      "   Use a production WSGI server instead.\n",
      " * Debug mode: off\n"
     ]
    },
    {
     "name": "stderr",
     "output_type": "stream",
     "text": [
      " * Running on http://127.0.0.1:22222/ (Press CTRL+C to quit)\n",
      "127.0.0.1 - - [06/Dec/2022 19:32:38] \"\u001b[37mPOST /predict HTTP/1.1\u001b[0m\" 200 -\n"
     ]
    },
    {
     "name": "stdout",
     "output_type": "stream",
     "text": [
      "[{'Intercept': 1, 'race': 'Caucasian', 'gender': 'Female', 'age': 1, 'admission_type_id': 0, 'discharge_disposition': 'Discharged to Home', 'admission_source_id': 0, 'time_in_hospital': 3, 'num_lab_procedures': 59, 'num_procedures': 0, 'num_medications': 18, 'number_outpatient': 0, 'number_emergency': 0, 'number_inpatient': 0, 'number_diagnoses': 9, 'max_glu_serum': 'None', 'A1Cresult': 'None', 'metformin': 'No', 'repaglinide': 'No', 'glimepiride': 'No', 'glipizide': 'No', 'glyburide': 'No', 'pioglitazone': 'No', 'rosiglitazone': 'No', 'citoglipton': 'No', 'insulin': 'Yes', 'change': 'Ch', 'diabetesMed': 'Yes'}]\n"
     ]
    },
    {
     "name": "stderr",
     "output_type": "stream",
     "text": [
      "127.0.0.1 - - [06/Dec/2022 19:33:43] \"\u001b[31m\u001b[1mGET /predict HTTP/1.1\u001b[0m\" 405 -\n",
      "127.0.0.1 - - [06/Dec/2022 19:33:44] \"\u001b[33mGET /favicon.ico HTTP/1.1\u001b[0m\" 404 -\n",
      "127.0.0.1 - - [06/Dec/2022 19:34:20] \"\u001b[37mPOST /predict HTTP/1.1\u001b[0m\" 200 -\n"
     ]
    },
    {
     "name": "stdout",
     "output_type": "stream",
     "text": [
      "[{'Intercept': 1, 'race': 'Caucasian', 'gender': 'Female', 'age': 1, 'admission_type_id': 0, 'discharge_disposition': 'Discharged to Home', 'admission_source_id': 0, 'time_in_hospital': 3, 'num_lab_procedures': 59, 'num_procedures': 0, 'num_medications': 18, 'number_outpatient': 0, 'number_emergency': 0, 'number_inpatient': 0, 'number_diagnoses': 9, 'max_glu_serum': 'None', 'A1Cresult': 'None', 'metformin': 'No', 'repaglinide': 'No', 'glimepiride': 'No', 'glipizide': 'No', 'glyburide': 'No', 'pioglitazone': 'No', 'rosiglitazone': 'No', 'citoglipton': 'No', 'insulin': 'Yes', 'change': 'Ch', 'diabetesMed': 'Yes'}]\n"
     ]
    },
    {
     "name": "stderr",
     "output_type": "stream",
     "text": [
      "127.0.0.1 - - [06/Dec/2022 19:34:41] \"\u001b[37mPOST /predict HTTP/1.1\u001b[0m\" 200 -\n"
     ]
    },
    {
     "name": "stdout",
     "output_type": "stream",
     "text": [
      "[{'Intercept': 1, 'race': 'Caucasian', 'gender': 'Male', 'age': 1, 'admission_type_id': 0, 'discharge_disposition': 'Discharged to Home', 'admission_source_id': 0, 'time_in_hospital': 3, 'num_lab_procedures': 59, 'num_procedures': 0, 'num_medications': 18, 'number_outpatient': 0, 'number_emergency': 0, 'number_inpatient': 0, 'number_diagnoses': 9, 'max_glu_serum': 'None', 'A1Cresult': 'None', 'metformin': 'No', 'repaglinide': 'No', 'glimepiride': 'No', 'glipizide': 'No', 'glyburide': 'No', 'pioglitazone': 'No', 'rosiglitazone': 'No', 'citoglipton': 'No', 'insulin': 'Yes', 'change': 'Ch', 'diabetesMed': 'Yes'}]\n"
     ]
    },
    {
     "name": "stderr",
     "output_type": "stream",
     "text": [
      "127.0.0.1 - - [06/Dec/2022 19:36:50] \"\u001b[37mPOST /predict HTTP/1.1\u001b[0m\" 200 -\n"
     ]
    },
    {
     "name": "stdout",
     "output_type": "stream",
     "text": [
      "[{'Intercept': 1, 'race': 'Caucasian', 'gender': 'Male', 'age': 1, 'admission_type_id': 0, 'discharge_disposition': 'Discharged to Home', 'admission_source_id': 0, 'time_in_hospital': 3, 'num_lab_procedures': 10, 'num_procedures': 0, 'num_medications': 0, 'number_outpatient': 0, 'number_emergency': 0, 'number_inpatient': 0, 'number_diagnoses': 9, 'max_glu_serum': 'None', 'A1Cresult': 'None', 'metformin': 'Yes', 'repaglinide': 'No', 'glimepiride': 'No', 'glipizide': 'No', 'glyburide': 'No', 'pioglitazone': 'No', 'rosiglitazone': 'No', 'citoglipton': 'No', 'insulin': 'Yes', 'change': 'Ch', 'diabetesMed': 'Yes'}]\n"
     ]
    },
    {
     "name": "stderr",
     "output_type": "stream",
     "text": [
      "127.0.0.1 - - [06/Dec/2022 19:41:12] \"\u001b[37mPOST /predict HTTP/1.1\u001b[0m\" 200 -\n"
     ]
    },
    {
     "name": "stdout",
     "output_type": "stream",
     "text": [
      "[{'Intercept': 1, 'race': 'Caucasian', 'gender': 'Male', 'age': 1, 'admission_type_id': 0, 'discharge_disposition': 'Discharged to Home', 'admission_source_id': 0, 'time_in_hospital': 3, 'num_lab_procedures': 34, 'num_procedures': 0, 'num_medications': 0, 'number_outpatient': 0, 'number_emergency': 0, 'number_inpatient': 0, 'number_diagnoses': 9, 'max_glu_serum': 'None', 'A1Cresult': 'None', 'metformin': 'Yes', 'repaglinide': 'No', 'glimepiride': 'No', 'glipizide': 'No', 'glyburide': 'No', 'pioglitazone': 'No', 'rosiglitazone': 'No', 'citoglipton': 'No', 'insulin': 'Yes', 'change': 'Ch', 'diabetesMed': 'Yes'}]\n"
     ]
    },
    {
     "name": "stderr",
     "output_type": "stream",
     "text": [
      "127.0.0.1 - - [06/Dec/2022 19:41:20] \"\u001b[37mPOST /predict HTTP/1.1\u001b[0m\" 200 -\n"
     ]
    },
    {
     "name": "stdout",
     "output_type": "stream",
     "text": [
      "[{'Intercept': 1, 'race': 'Caucasian', 'gender': 'Male', 'age': 1, 'admission_type_id': 0, 'discharge_disposition': 'Discharged to Home', 'admission_source_id': 0, 'time_in_hospital': 3, 'num_lab_procedures': 34, 'num_procedures': 0, 'num_medications': 2, 'number_outpatient': 0, 'number_emergency': 0, 'number_inpatient': 0, 'number_diagnoses': 9, 'max_glu_serum': 'None', 'A1Cresult': 'None', 'metformin': 'Yes', 'repaglinide': 'No', 'glimepiride': 'No', 'glipizide': 'No', 'glyburide': 'No', 'pioglitazone': 'No', 'rosiglitazone': 'No', 'citoglipton': 'No', 'insulin': 'Yes', 'change': 'Ch', 'diabetesMed': 'Yes'}]\n"
     ]
    }
   ],
   "source": [
    "from flask import Flask, request, jsonify\n",
    "import joblib\n",
    "import traceback\n",
    "import pandas as pd\n",
    "import numpy as np\n",
    "\n",
    "# API definition\n",
    "app = Flask(__name__)\n",
    "\n",
    "@app.route('/predict', methods=['POST'])\n",
    "def predict():\n",
    "    if cbc_opt_model:\n",
    "        try:\n",
    "            json_ = request.json\n",
    "            print(json_)\n",
    "            query = pd.get_dummies(pd.DataFrame(json_))\n",
    "            query = query.reindex(columns=model_train_columns, fill_value=0)\n",
    "\n",
    "            prediction = list(cbc_opt_model.predict(query))\n",
    "\n",
    "            return jsonify({'prediction': str(prediction)})\n",
    "\n",
    "        except:\n",
    "\n",
    "            return jsonify({'trace': traceback.format_exc()})\n",
    "    else:\n",
    "        print ('Train the model first')\n",
    "        return ('No model here to use')\n",
    "\n",
    "if __name__ == '__main__':\n",
    "    try:\n",
    "        port = int(sys.argv[1])\n",
    "    except:\n",
    "        port = 22222 \n",
    "\n",
    "    cbc_opt_model = joblib.load(\"model.pkl\") # Load \"model.pkl\"\n",
    "    print ('Model loaded')\n",
    "    model_train_columns = joblib.load(\"model_columns.pkl\") # Load \"model_columns.pkl\"\n",
    "    print ('Model columns loaded')\n",
    "\n",
    "    app.run(port=port, debug=False)"
   ]
  },
  {
   "cell_type": "markdown",
   "metadata": {},
   "source": [
    "[\n",
    "    {\"Intercept\":1,\"race\":\"Caucasian\",\"gender\":\"Female\",\"age\":1,\"admission_type_id\":0,\"discharge_disposition\":\"Discharged to Home\",\"admission_source_id\":0,\"time_in_hospital\":3,\"num_lab_procedures\":59,\"num_procedures\":0,\"num_medications\":18,\"number_outpatient\":0,\"number_emergency\":0,\"number_inpatient\":0,\"number_diagnoses\":9,\"max_glu_serum\":\"None\",\"A1Cresult\":\"None\",\"metformin\":\"No\",\"repaglinide\":\"No\",\"glimepiride\":\"No\",\"glipizide\":\"No\",\"glyburide\":\"No\",\"pioglitazone\":\"No\",\"rosiglitazone\":\"No\",\"citoglipton\":\"No\",\"insulin\":\"Yes\",\"change\":\"Ch\",\"diabetesMed\":\"Yes\"}\n",
    "]"
   ]
  }
 ],
 "metadata": {
  "kernelspec": {
   "display_name": "Python 3",
   "language": "python",
   "name": "python3"
  },
  "language_info": {
   "codemirror_mode": {
    "name": "ipython",
    "version": 3
   },
   "file_extension": ".py",
   "mimetype": "text/x-python",
   "name": "python",
   "nbconvert_exporter": "python",
   "pygments_lexer": "ipython3",
   "version": "3.8.5"
  }
 },
 "nbformat": 4,
 "nbformat_minor": 4
}
